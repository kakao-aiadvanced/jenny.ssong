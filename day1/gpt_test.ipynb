{
 "cells": [
  {
   "cell_type": "code",
   "id": "initial_id",
   "metadata": {
    "collapsed": true,
    "ExecuteTime": {
     "end_time": "2024-07-29T09:47:48.630204Z",
     "start_time": "2024-07-29T09:47:48.411806Z"
    }
   },
   "source": "import openai",
   "outputs": [],
   "execution_count": 1
  },
  {
   "metadata": {
    "ExecuteTime": {
     "end_time": "2024-07-29T09:49:05.302669Z",
     "start_time": "2024-07-29T09:49:05.299704Z"
    }
   },
   "cell_type": "code",
   "source": "openai.api_key='sk-#'",
   "id": "b4f1c3f85d86ea6c",
   "outputs": [],
   "execution_count": 12
  },
  {
   "metadata": {
    "ExecuteTime": {
     "end_time": "2024-07-29T09:48:44.262066Z",
     "start_time": "2024-07-29T09:48:44.258658Z"
    }
   },
   "cell_type": "code",
   "source": [
    "model = \"gpt-4o-mini\"\n",
    "\n",
    "def generate_response(prompt, model=model, max_tokens=100, temperature=1.0):\n",
    "    response = openai.chat.completions.create(\n",
    "        model=model,\n",
    "        max_tokens=max_tokens,\n",
    "        temperature=temperature,\n",
    "        messages=[\n",
    "            {\"role\": \"system\", \"content\": \"Follow the given examples and answer the question.\"},\n",
    "            {\"role\": \"user\", \"content\": prompt},\n",
    "        ]\n",
    "    )\n",
    "    return response.choices[0].message.content"
   ],
   "id": "a6dee53f497040d1",
   "outputs": [],
   "execution_count": 10
  },
  {
   "metadata": {
    "ExecuteTime": {
     "end_time": "2024-07-29T09:48:12.574534Z",
     "start_time": "2024-07-29T09:48:12.572170Z"
    }
   },
   "cell_type": "code",
   "source": "prompt = \"What is the capital of France?\"",
   "id": "926df90552eff3ae",
   "outputs": [],
   "execution_count": 6
  },
  {
   "metadata": {
    "ExecuteTime": {
     "end_time": "2024-07-29T09:49:11.189864Z",
     "start_time": "2024-07-29T09:49:10.492238Z"
    }
   },
   "cell_type": "code",
   "source": "response = generate_response(prompt)",
   "id": "7eea5b0ac620c70d",
   "outputs": [],
   "execution_count": 13
  },
  {
   "metadata": {
    "ExecuteTime": {
     "end_time": "2024-07-29T09:49:34.045231Z",
     "start_time": "2024-07-29T09:49:34.040536Z"
    }
   },
   "cell_type": "code",
   "source": "response.choices[0].message.content",
   "id": "dcf82600e831621a",
   "outputs": [
    {
     "data": {
      "text/plain": [
       "'The capital of France is Paris.'"
      ]
     },
     "execution_count": 15,
     "metadata": {},
     "output_type": "execute_result"
    }
   ],
   "execution_count": 15
  },
  {
   "metadata": {},
   "cell_type": "code",
   "outputs": [],
   "execution_count": null,
   "source": "",
   "id": "99ad4569a2ab1503"
  }
 ],
 "metadata": {
  "kernelspec": {
   "display_name": "Python 3",
   "language": "python",
   "name": "python3"
  },
  "language_info": {
   "codemirror_mode": {
    "name": "ipython",
    "version": 2
   },
   "file_extension": ".py",
   "mimetype": "text/x-python",
   "name": "python",
   "nbconvert_exporter": "python",
   "pygments_lexer": "ipython2",
   "version": "2.7.6"
  }
 },
 "nbformat": 4,
 "nbformat_minor": 5
}
