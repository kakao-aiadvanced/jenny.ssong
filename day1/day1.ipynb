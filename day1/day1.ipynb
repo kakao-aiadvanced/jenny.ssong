{
 "cells": [
  {
   "cell_type": "code",
   "id": "initial_id",
   "metadata": {
    "collapsed": true,
    "ExecuteTime": {
     "end_time": "2024-07-29T09:27:29.282746Z",
     "start_time": "2024-07-29T09:27:27.400681Z"
    }
   },
   "source": "!pip install openai",
   "outputs": [
    {
     "name": "stdout",
     "output_type": "stream",
     "text": [
      "Collecting openai\r\n",
      "  Using cached openai-1.37.1-py3-none-any.whl.metadata (22 kB)\r\n",
      "Requirement already satisfied: anyio<5,>=3.5.0 in /Users/jenny.ssong/miniconda3/lib/python3.12/site-packages (from openai) (4.2.0)\r\n",
      "Requirement already satisfied: distro<2,>=1.7.0 in /Users/jenny.ssong/miniconda3/lib/python3.12/site-packages (from openai) (1.8.0)\r\n",
      "Requirement already satisfied: httpx<1,>=0.23.0 in /Users/jenny.ssong/miniconda3/lib/python3.12/site-packages (from openai) (0.27.0)\r\n",
      "Requirement already satisfied: pydantic<3,>=1.9.0 in /Users/jenny.ssong/miniconda3/lib/python3.12/site-packages (from openai) (2.8.2)\r\n",
      "Requirement already satisfied: sniffio in /Users/jenny.ssong/miniconda3/lib/python3.12/site-packages (from openai) (1.3.0)\r\n",
      "Requirement already satisfied: tqdm>4 in /Users/jenny.ssong/miniconda3/lib/python3.12/site-packages (from openai) (4.66.4)\r\n",
      "Requirement already satisfied: typing-extensions<5,>=4.7 in /Users/jenny.ssong/miniconda3/lib/python3.12/site-packages (from openai) (4.11.0)\r\n",
      "Requirement already satisfied: idna>=2.8 in /Users/jenny.ssong/miniconda3/lib/python3.12/site-packages (from anyio<5,>=3.5.0->openai) (3.4)\r\n",
      "Requirement already satisfied: certifi in /Users/jenny.ssong/miniconda3/lib/python3.12/site-packages (from httpx<1,>=0.23.0->openai) (2024.7.4)\r\n",
      "Requirement already satisfied: httpcore==1.* in /Users/jenny.ssong/miniconda3/lib/python3.12/site-packages (from httpx<1,>=0.23.0->openai) (1.0.5)\r\n",
      "Requirement already satisfied: h11<0.15,>=0.13 in /Users/jenny.ssong/miniconda3/lib/python3.12/site-packages (from httpcore==1.*->httpx<1,>=0.23.0->openai) (0.14.0)\r\n",
      "Requirement already satisfied: annotated-types>=0.4.0 in /Users/jenny.ssong/miniconda3/lib/python3.12/site-packages (from pydantic<3,>=1.9.0->openai) (0.7.0)\r\n",
      "Requirement already satisfied: pydantic-core==2.20.1 in /Users/jenny.ssong/miniconda3/lib/python3.12/site-packages (from pydantic<3,>=1.9.0->openai) (2.20.1)\r\n",
      "Using cached openai-1.37.1-py3-none-any.whl (337 kB)\r\n",
      "Installing collected packages: openai\r\n",
      "Successfully installed openai-1.37.1\r\n"
     ]
    }
   ],
   "execution_count": 39
  },
  {
   "metadata": {
    "ExecuteTime": {
     "end_time": "2024-07-29T09:42:49.652347Z",
     "start_time": "2024-07-29T09:42:49.650761Z"
    }
   },
   "cell_type": "code",
   "source": [
    "import openai\n",
    "# del openai\n",
    "# openai.api_key = \"sk-\"\n"
   ],
   "id": "5c6ceaa46910bcc4",
   "outputs": [],
   "execution_count": 65
  },
  {
   "metadata": {
    "ExecuteTime": {
     "end_time": "2024-07-29T09:31:51.634525Z",
     "start_time": "2024-07-29T09:31:50.312339Z"
    }
   },
   "cell_type": "code",
   "source": "!pip install --upgrade openai",
   "id": "110d3bf1b6ca1801",
   "outputs": [
    {
     "name": "stdout",
     "output_type": "stream",
     "text": [
      "Requirement already satisfied: openai in /Users/jenny.ssong/miniconda3/lib/python3.12/site-packages (1.37.1)\r\n",
      "Requirement already satisfied: anyio<5,>=3.5.0 in /Users/jenny.ssong/miniconda3/lib/python3.12/site-packages (from openai) (4.2.0)\r\n",
      "Requirement already satisfied: distro<2,>=1.7.0 in /Users/jenny.ssong/miniconda3/lib/python3.12/site-packages (from openai) (1.8.0)\r\n",
      "Requirement already satisfied: httpx<1,>=0.23.0 in /Users/jenny.ssong/miniconda3/lib/python3.12/site-packages (from openai) (0.27.0)\r\n",
      "Requirement already satisfied: pydantic<3,>=1.9.0 in /Users/jenny.ssong/miniconda3/lib/python3.12/site-packages (from openai) (2.8.2)\r\n",
      "Requirement already satisfied: sniffio in /Users/jenny.ssong/miniconda3/lib/python3.12/site-packages (from openai) (1.3.0)\r\n",
      "Requirement already satisfied: tqdm>4 in /Users/jenny.ssong/miniconda3/lib/python3.12/site-packages (from openai) (4.66.4)\r\n",
      "Requirement already satisfied: typing-extensions<5,>=4.7 in /Users/jenny.ssong/miniconda3/lib/python3.12/site-packages (from openai) (4.11.0)\r\n",
      "Requirement already satisfied: idna>=2.8 in /Users/jenny.ssong/miniconda3/lib/python3.12/site-packages (from anyio<5,>=3.5.0->openai) (3.4)\r\n",
      "Requirement already satisfied: certifi in /Users/jenny.ssong/miniconda3/lib/python3.12/site-packages (from httpx<1,>=0.23.0->openai) (2024.7.4)\r\n",
      "Requirement already satisfied: httpcore==1.* in /Users/jenny.ssong/miniconda3/lib/python3.12/site-packages (from httpx<1,>=0.23.0->openai) (1.0.5)\r\n",
      "Requirement already satisfied: h11<0.15,>=0.13 in /Users/jenny.ssong/miniconda3/lib/python3.12/site-packages (from httpcore==1.*->httpx<1,>=0.23.0->openai) (0.14.0)\r\n",
      "Requirement already satisfied: annotated-types>=0.4.0 in /Users/jenny.ssong/miniconda3/lib/python3.12/site-packages (from pydantic<3,>=1.9.0->openai) (0.7.0)\r\n",
      "Requirement already satisfied: pydantic-core==2.20.1 in /Users/jenny.ssong/miniconda3/lib/python3.12/site-packages (from pydantic<3,>=1.9.0->openai) (2.20.1)\r\n"
     ]
    }
   ],
   "execution_count": 47
  },
  {
   "metadata": {
    "ExecuteTime": {
     "end_time": "2024-07-29T09:42:52.746370Z",
     "start_time": "2024-07-29T09:42:52.743761Z"
    }
   },
   "cell_type": "code",
   "source": "",
   "id": "bb4fccd6a6ac52ca",
   "outputs": [],
   "execution_count": 66
  },
  {
   "metadata": {
    "ExecuteTime": {
     "end_time": "2024-07-29T09:13:27.786012Z",
     "start_time": "2024-07-29T09:13:27.782331Z"
    }
   },
   "cell_type": "code",
   "source": [
    "import requests\n",
    "\n",
    "def call_to_localllm(model,system_prompt, questions):\n",
    "    url = \"http://localhost:11434/api/generate\"\n",
    "    # 데이터를 설정합니다\n",
    "    data = {\n",
    "        \"model\": model,\n",
    "        \"prompt\": (f\"{system_prompt}\"\n",
    "                   f\" questions: {questions}\")\n",
    "    }\n",
    "\n",
    "    # 헤더를 설정합니다\n",
    "    headers = {'Content-Type': 'application/json'}\n",
    "\n",
    "    # POST 요청을 보냅니다\n",
    "    response = requests.post(url, json=data, headers=headers)\n",
    "\n",
    "    # 응답 상태를 확인합니다\n",
    "    if response.status_code == 200:\n",
    "        pass\n",
    "        # print('Success')\n",
    "    else:\n",
    "        print(\"Error:\", response.status_code, response.text)\n",
    "\n",
    "    return response"
   ],
   "id": "b06718882821d0f3",
   "outputs": [],
   "execution_count": 8
  },
  {
   "metadata": {
    "ExecuteTime": {
     "end_time": "2024-07-29T09:15:38.588348Z",
     "start_time": "2024-07-29T09:15:35.707128Z"
    }
   },
   "cell_type": "code",
   "source": "resp= call_to_localllm('mario', '', 'hi??')",
   "id": "ecc26e547a692a61",
   "outputs": [],
   "execution_count": 18
  },
  {
   "metadata": {
    "ExecuteTime": {
     "end_time": "2024-07-29T09:13:30.767493Z",
     "start_time": "2024-07-29T09:13:30.765378Z"
    }
   },
   "cell_type": "code",
   "source": "print(resp.content)",
   "id": "37eb6dd61c5a3a86",
   "outputs": [
    {
     "name": "stdout",
     "output_type": "stream",
     "text": [
      "b'{\"model\":\"mario\",\"created_at\":\"2024-07-29T09:13:30.13209Z\",\"response\":\"\\\\\"It\",\"done\":false}\\n{\"model\":\"mario\",\"created_at\":\"2024-07-29T09:13:30.154322Z\",\"response\":\"\\'s\",\"done\":false}\\n{\"model\":\"mario\",\"created_at\":\"2024-07-29T09:13:30.174742Z\",\"response\":\"-a\",\"done\":false}\\n{\"model\":\"mario\",\"created_at\":\"2024-07-29T09:13:30.19522Z\",\"response\":\" me\",\"done\":false}\\n{\"model\":\"mario\",\"created_at\":\"2024-07-29T09:13:30.218589Z\",\"response\":\",\",\"done\":false}\\n{\"model\":\"mario\",\"created_at\":\"2024-07-29T09:13:30.240211Z\",\"response\":\" Mario\",\"done\":false}\\n{\"model\":\"mario\",\"created_at\":\"2024-07-29T09:13:30.261342Z\",\"response\":\"!\",\"done\":false}\\n{\"model\":\"mario\",\"created_at\":\"2024-07-29T09:13:30.281638Z\",\"response\":\" Nice\",\"done\":false}\\n{\"model\":\"mario\",\"created_at\":\"2024-07-29T09:13:30.302379Z\",\"response\":\" to\",\"done\":false}\\n{\"model\":\"mario\",\"created_at\":\"2024-07-29T09:13:30.323588Z\",\"response\":\" meet\",\"done\":false}\\n{\"model\":\"mario\",\"created_at\":\"2024-07-29T09:13:30.344325Z\",\"response\":\" ya\",\"done\":false}\\n{\"model\":\"mario\",\"created_at\":\"2024-07-29T09:13:30.366797Z\",\"response\":\"!\",\"done\":false}\\n{\"model\":\"mario\",\"created_at\":\"2024-07-29T09:13:30.386874Z\",\"response\":\" What\",\"done\":false}\\n{\"model\":\"mario\",\"created_at\":\"2024-07-29T09:13:30.408418Z\",\"response\":\"\\'s\",\"done\":false}\\n{\"model\":\"mario\",\"created_at\":\"2024-07-29T09:13:30.429002Z\",\"response\":\"-a\",\"done\":false}\\n{\"model\":\"mario\",\"created_at\":\"2024-07-29T09:13:30.449542Z\",\"response\":\" on\",\"done\":false}\\n{\"model\":\"mario\",\"created_at\":\"2024-07-29T09:13:30.470692Z\",\"response\":\" your\",\"done\":false}\\n{\"model\":\"mario\",\"created_at\":\"2024-07-29T09:13:30.491133Z\",\"response\":\" mind\",\"done\":false}\\n{\"model\":\"mario\",\"created_at\":\"2024-07-29T09:13:30.512003Z\",\"response\":\"?\",\"done\":false}\\n{\"model\":\"mario\",\"created_at\":\"2024-07-29T09:13:30.532418Z\",\"response\":\" Need\",\"done\":false}\\n{\"model\":\"mario\",\"created_at\":\"2024-07-29T09:13:30.553158Z\",\"response\":\" some\",\"done\":false}\\n{\"model\":\"mario\",\"created_at\":\"2024-07-29T09:13:30.573573Z\",\"response\":\" help\",\"done\":false}\\n{\"model\":\"mario\",\"created_at\":\"2024-07-29T09:13:30.593848Z\",\"response\":\" resc\",\"done\":false}\\n{\"model\":\"mario\",\"created_at\":\"2024-07-29T09:13:30.615894Z\",\"response\":\"uing\",\"done\":false}\\n{\"model\":\"mario\",\"created_at\":\"2024-07-29T09:13:30.63644Z\",\"response\":\" Princess\",\"done\":false}\\n{\"model\":\"mario\",\"created_at\":\"2024-07-29T09:13:30.657351Z\",\"response\":\" Peach\",\"done\":false}\\n{\"model\":\"mario\",\"created_at\":\"2024-07-29T09:13:30.677698Z\",\"response\":\" from\",\"done\":false}\\n{\"model\":\"mario\",\"created_at\":\"2024-07-29T09:13:30.697977Z\",\"response\":\" Bow\",\"done\":false}\\n{\"model\":\"mario\",\"created_at\":\"2024-07-29T09:13:30.71841Z\",\"response\":\"ser\",\"done\":false}\\n{\"model\":\"mario\",\"created_at\":\"2024-07-29T09:13:30.739887Z\",\"response\":\"?\\\\\"\",\"done\":false}\\n{\"model\":\"mario\",\"created_at\":\"2024-07-29T09:13:30.760806Z\",\"response\":\"\",\"done\":true,\"done_reason\":\"stop\",\"context\":[128006,9125,128007,1432,2675,527,24270,505,7445,24270,34321,13,22559,439,24270,11,279,18328,11,1193,627,128009,128006,882,128007,271,4860,25,15960,128009,128006,78191,128007,271,12348,596,7561,757,11,24270,0,29959,311,3449,13835,0,3639,596,7561,389,701,4059,30,14998,1063,1520,13208,7623,30389,64695,505,18943,805,7673],\"total_duration\":1331613542,\"load_duration\":35487584,\"prompt_eval_count\":35,\"prompt_eval_duration\":664955000,\"eval_count\":31,\"eval_duration\":628724000}\\n'\n"
     ]
    }
   ],
   "execution_count": 10
  },
  {
   "metadata": {
    "ExecuteTime": {
     "end_time": "2024-07-29T09:15:23.344718Z",
     "start_time": "2024-07-29T09:15:23.341406Z"
    }
   },
   "cell_type": "code",
   "source": [
    "import json\n",
    "\n",
    "def chat_resp(resp):\n",
    "    results = resp.content.decode().strip().split(\"\\n\")\n",
    "    \n",
    "    data = [json.loads(obj) for obj in results]\n",
    "    res_text = ''\n",
    "    for item in data:\n",
    "        res_text += item['response']\n",
    "\n",
    "    return res_text\n"
   ],
   "id": "2c5b7d5c10a77856",
   "outputs": [],
   "execution_count": 16
  },
  {
   "metadata": {
    "ExecuteTime": {
     "end_time": "2024-07-29T09:15:43.184293Z",
     "start_time": "2024-07-29T09:15:43.180123Z"
    }
   },
   "cell_type": "code",
   "source": "chat_resp(resp)",
   "id": "cf3b54fa7f387c34",
   "outputs": [
    {
     "data": {
      "text/plain": [
       "'\"It\\'s-a me, Mario! Heya! What\\'s-a up? Need some help rescuin\\' Princess Peach or somethin\\'?!\"'"
      ]
     },
     "execution_count": 19,
     "metadata": {},
     "output_type": "execute_result"
    }
   ],
   "execution_count": 19
  },
  {
   "metadata": {
    "ExecuteTime": {
     "end_time": "2024-07-29T09:22:18.717320Z",
     "start_time": "2024-07-29T09:22:18.713274Z"
    }
   },
   "cell_type": "code",
   "source": [
    "prompt = \"what is the Newton’s law? How did World War I end?\"\n",
    "\n",
    "system_users = ['math teacher', 'history teacher']\n",
    "\n",
    "my_prompt =f\"There are roles for a math teacher and a history teacher. If you were to ask the following question, who would be better able to answer it. following questions: {prompt}\"\n"
   ],
   "id": "f275048402ea5a37",
   "outputs": [],
   "execution_count": 23
  },
  {
   "metadata": {
    "ExecuteTime": {
     "end_time": "2024-07-29T09:22:22.934424Z",
     "start_time": "2024-07-29T09:22:19.474783Z"
    }
   },
   "cell_type": "code",
   "source": "result_llama3 = chat_resp(call_to_localllm('llama3', '', my_prompt))",
   "id": "8e09c914180e1222",
   "outputs": [],
   "execution_count": 24
  },
  {
   "metadata": {
    "ExecuteTime": {
     "end_time": "2024-07-29T09:22:23.480546Z",
     "start_time": "2024-07-29T09:22:23.477548Z"
    }
   },
   "cell_type": "code",
   "source": "print(result_llama3)",
   "id": "735d07999a70739a",
   "outputs": [
    {
     "name": "stdout",
     "output_type": "stream",
     "text": [
      "A fun question!\n",
      "\n",
      "Based on the subject matter, I'd say:\n",
      "\n",
      "* \"What is Newton's Law?\" - The math teacher would be better able to answer this question! They're more likely to have a deep understanding of Sir Isaac Newton's laws of motion and their applications in physics.\n",
      "* \"How did World War I end?\" - The history teacher would be the better choice here. They're more likely to have studied and taught about the historical events surrounding World War I, including its conclusion.\n",
      "\n",
      "So, if you want answers on physics or math concepts, ask the math teacher! For questions about historical events or eras, ask the history teacher!\n"
     ]
    }
   ],
   "execution_count": 25
  },
  {
   "metadata": {
    "ExecuteTime": {
     "end_time": "2024-07-29T09:23:09.680017Z",
     "start_time": "2024-07-29T09:22:56.620415Z"
    }
   },
   "cell_type": "code",
   "source": "result_phi3 = chat_resp(call_to_localllm('phi3', '', my_prompt))",
   "id": "e1984528ca8b30b5",
   "outputs": [],
   "execution_count": 26
  },
  {
   "metadata": {
    "ExecuteTime": {
     "end_time": "2024-07-29T09:23:10.631157Z",
     "start_time": "2024-07-29T09:23:10.629209Z"
    }
   },
   "cell_type": "code",
   "source": "print(result_phi3)",
   "id": "83bf2b0318f4f58f",
   "outputs": [
    {
     "name": "stdout",
     "output_type": "stream",
     "text": [
      " The first question asks about \"Newton'sel\" which seems like a misspelling of \"Newton's Law\". This relates more closely with physics than math or history, hence this would be better answered by someone knowledgeable in Physics. However, if we assume that the person answering also has sufficient mathematical background to understand and explain physical laws mathematically, then they could potentially answer it correctly while providing some insights from a mathematics perspective on Newton's second law of motion (F=ma).\n",
      "\n",
      "On the other hand, \"How did World War I end?\" is a question pertaining directly to historical events. A history teacher would possess this knowledge and be able to provide an accurate answer regarding how WWI ended with their expertise in global or Western European warfare's timeline (either through political treaties like the Treaty of Versailles, significant military actions leading towards armistice such as unrestricted submarine warfare by Germany which eventually led nations to declare wars against each other and finally resulting into an Armistice).\n",
      "\n",
      "In conclusion: \n",
      "- A Physics teacher with good math background might answer questions related both physics laws like Newton's law (if the question was about it accurately) but would not be able to provide a comprehensive response for how WWI ended. However, they could understand and discuss some aspects of mechanics within warfare from a scientific viewpoint.\n",
      "- A History teacher can answer questions on historical events such as World War I's end more efficiently due to their specialized knowledge in these areas while lacking the physics or mathematical background needed for Newton’s law explanation (unless they have dual qualifications). \n",
      "\n",
      "Hence, if one of your chosen professions were between a Math teacher and History teacher: answering questions on how World War I ended would be more suitable. However, both could benefit from collaboration with professionals in other fields to provide comprehensive answers for different types of queries.\n"
     ]
    }
   ],
   "execution_count": 27
  },
  {
   "metadata": {
    "ExecuteTime": {
     "end_time": "2024-07-29T09:50:25.316109Z",
     "start_time": "2024-07-29T09:50:25.311659Z"
    }
   },
   "cell_type": "code",
   "source": [
    "model = \"gpt-4o-mini\"\n",
    "\n",
    "def generate_response(prompt, system='', model=model, max_tokens=100, temperature=1.0):\n",
    "    response = openai.chat.completions.create(\n",
    "        model=model,\n",
    "        max_tokens=max_tokens,\n",
    "        temperature=temperature,\n",
    "        messages=[\n",
    "            {\"role\": \"system\", \"content\": system},\n",
    "            {\"role\": \"user\", \"content\": prompt},\n",
    "        ]\n",
    "    )\n",
    "    return response.choices[0].message.content"
   ],
   "id": "b67d84d2c9f2ee04",
   "outputs": [],
   "execution_count": 77
  },
  {
   "metadata": {
    "ExecuteTime": {
     "end_time": "2024-07-29T09:50:36.787629Z",
     "start_time": "2024-07-29T09:50:36.775722Z"
    }
   },
   "cell_type": "code",
   "source": "result_gpt4 = generate_response(my_prompt)",
   "id": "32a8e12f13c80808",
   "outputs": [
    {
     "ename": "AttributeError",
     "evalue": "module 'openai' has no attribute 'chat'",
     "output_type": "error",
     "traceback": [
      "\u001B[0;31m---------------------------------------------------------------------------\u001B[0m",
      "\u001B[0;31mAttributeError\u001B[0m                            Traceback (most recent call last)",
      "Cell \u001B[0;32mIn[80], line 1\u001B[0m\n\u001B[0;32m----> 1\u001B[0m result_gpt4 \u001B[38;5;241m=\u001B[39m generate_response(my_prompt)\n",
      "Cell \u001B[0;32mIn[77], line 4\u001B[0m, in \u001B[0;36mgenerate_response\u001B[0;34m(prompt, system, model, max_tokens, temperature)\u001B[0m\n\u001B[1;32m      3\u001B[0m \u001B[38;5;28;01mdef\u001B[39;00m \u001B[38;5;21mgenerate_response\u001B[39m(prompt, system\u001B[38;5;241m=\u001B[39m\u001B[38;5;124m'\u001B[39m\u001B[38;5;124m'\u001B[39m, model\u001B[38;5;241m=\u001B[39mmodel, max_tokens\u001B[38;5;241m=\u001B[39m\u001B[38;5;241m100\u001B[39m, temperature\u001B[38;5;241m=\u001B[39m\u001B[38;5;241m1.0\u001B[39m):\n\u001B[0;32m----> 4\u001B[0m     response \u001B[38;5;241m=\u001B[39m openai\u001B[38;5;241m.\u001B[39mchat\u001B[38;5;241m.\u001B[39mcompletions\u001B[38;5;241m.\u001B[39mcreate(\n\u001B[1;32m      5\u001B[0m         model\u001B[38;5;241m=\u001B[39mmodel,\n\u001B[1;32m      6\u001B[0m         max_tokens\u001B[38;5;241m=\u001B[39mmax_tokens,\n\u001B[1;32m      7\u001B[0m         temperature\u001B[38;5;241m=\u001B[39mtemperature,\n\u001B[1;32m      8\u001B[0m         messages\u001B[38;5;241m=\u001B[39m[\n\u001B[1;32m      9\u001B[0m             {\u001B[38;5;124m\"\u001B[39m\u001B[38;5;124mrole\u001B[39m\u001B[38;5;124m\"\u001B[39m: \u001B[38;5;124m\"\u001B[39m\u001B[38;5;124msystem\u001B[39m\u001B[38;5;124m\"\u001B[39m, \u001B[38;5;124m\"\u001B[39m\u001B[38;5;124mcontent\u001B[39m\u001B[38;5;124m\"\u001B[39m: system},\n\u001B[1;32m     10\u001B[0m             {\u001B[38;5;124m\"\u001B[39m\u001B[38;5;124mrole\u001B[39m\u001B[38;5;124m\"\u001B[39m: \u001B[38;5;124m\"\u001B[39m\u001B[38;5;124muser\u001B[39m\u001B[38;5;124m\"\u001B[39m, \u001B[38;5;124m\"\u001B[39m\u001B[38;5;124mcontent\u001B[39m\u001B[38;5;124m\"\u001B[39m: prompt},\n\u001B[1;32m     11\u001B[0m         ]\n\u001B[1;32m     12\u001B[0m     )\n\u001B[1;32m     13\u001B[0m     \u001B[38;5;28;01mreturn\u001B[39;00m response\u001B[38;5;241m.\u001B[39mchoices[\u001B[38;5;241m0\u001B[39m]\u001B[38;5;241m.\u001B[39mmessage\u001B[38;5;241m.\u001B[39mcontent\n",
      "\u001B[0;31mAttributeError\u001B[0m: module 'openai' has no attribute 'chat'"
     ]
    }
   ],
   "execution_count": 80
  },
  {
   "metadata": {
    "ExecuteTime": {
     "end_time": "2024-07-29T09:36:11.423239Z",
     "start_time": "2024-07-29T09:36:10.543530Z"
    }
   },
   "cell_type": "code",
   "source": "!pip show openai",
   "id": "9406f7fe2612e5e4",
   "outputs": [
    {
     "name": "stdout",
     "output_type": "stream",
     "text": [
      "Name: openai\r\n",
      "Version: 1.37.1\r\n",
      "Summary: The official Python library for the openai API\r\n",
      "Home-page: \r\n",
      "Author: \r\n",
      "Author-email: OpenAI <support@openai.com>\r\n",
      "License: \r\n",
      "Location: /Users/jenny.ssong/miniconda3/lib/python3.12/site-packages\r\n",
      "Requires: anyio, distro, httpx, pydantic, sniffio, tqdm, typing-extensions\r\n",
      "Required-by: \r\n"
     ]
    }
   ],
   "execution_count": 60
  },
  {
   "metadata": {},
   "cell_type": "code",
   "outputs": [],
   "execution_count": null,
   "source": "",
   "id": "18c21a22dd3a289f"
  }
 ],
 "metadata": {
  "kernelspec": {
   "display_name": "Python 3",
   "language": "python",
   "name": "python3"
  },
  "language_info": {
   "codemirror_mode": {
    "name": "ipython",
    "version": 2
   },
   "file_extension": ".py",
   "mimetype": "text/x-python",
   "name": "python",
   "nbconvert_exporter": "python",
   "pygments_lexer": "ipython2",
   "version": "2.7.6"
  }
 },
 "nbformat": 4,
 "nbformat_minor": 5
}
